{
 "cells": [
  {
   "cell_type": "markdown",
   "id": "63d310e7-d9c3-485c-b233-ee21187d3616",
   "metadata": {},
   "source": [
    "### Необходимые импорты"
   ]
  },
  {
   "cell_type": "code",
   "execution_count": 10,
   "id": "cc053712-19ce-4999-bdf2-1595f6c755aa",
   "metadata": {},
   "outputs": [],
   "source": [
    "from datasets import load_dataset\n",
    "\n",
    "import pandas as pd\n",
    "import re\n",
    "import numpy as np\n",
    "\n",
    "from nltk.corpus import stopwords\n",
    "from nltk.stem import WordNetLemmatizer\n",
    "import nltk\n",
    "\n",
    "from sklearn.linear_model import LogisticRegression\n",
    "from sklearn.metrics import f1_score, make_scorer, accuracy_score\n",
    "from sklearn.model_selection import train_test_split, GridSearchCV, RandomizedSearchCV\n",
    "from sklearn.pipeline import Pipeline\n",
    "from sklearn.feature_extraction.text import TfidfVectorizer\n",
    "from sklearn.tree import DecisionTreeClassifier\n",
    "from catboost import CatBoostClassifier"
   ]
  },
  {
   "cell_type": "code",
   "execution_count": 2,
   "id": "7bea5c3e-fc69-471b-81a4-4b1a7a596038",
   "metadata": {},
   "outputs": [
    {
     "name": "stderr",
     "output_type": "stream",
     "text": [
      "[nltk_data] Downloading package stopwords to\n",
      "[nltk_data]     C:\\Users\\Home\\AppData\\Roaming\\nltk_data...\n",
      "[nltk_data]   Package stopwords is already up-to-date!\n",
      "[nltk_data] Downloading package wordnet to\n",
      "[nltk_data]     C:\\Users\\Home\\AppData\\Roaming\\nltk_data...\n",
      "[nltk_data]   Package wordnet is already up-to-date!\n"
     ]
    },
    {
     "data": {
      "text/plain": [
       "True"
      ]
     },
     "execution_count": 2,
     "metadata": {},
     "output_type": "execute_result"
    }
   ],
   "source": [
    "nltk.download('stopwords')\n",
    "nltk.download('wordnet')"
   ]
  },
  {
   "cell_type": "markdown",
   "id": "0e64f63d-4b24-4001-b7af-0ad25ee46ed4",
   "metadata": {},
   "source": [
    "### Загрузка данных и анализ"
   ]
  },
  {
   "cell_type": "code",
   "execution_count": 3,
   "id": "e57cc1fe-4329-42fe-80f2-6216993b447b",
   "metadata": {},
   "outputs": [],
   "source": [
    "ds = load_dataset(\"stanfordnlp/imdb\")"
   ]
  },
  {
   "cell_type": "code",
   "execution_count": 4,
   "id": "28d6c5d9-6a42-41e6-b320-f6022fae0382",
   "metadata": {},
   "outputs": [
    {
     "data": {
      "text/plain": [
       "DatasetDict({\n",
       "    train: Dataset({\n",
       "        features: ['text', 'label'],\n",
       "        num_rows: 25000\n",
       "    })\n",
       "    test: Dataset({\n",
       "        features: ['text', 'label'],\n",
       "        num_rows: 25000\n",
       "    })\n",
       "    unsupervised: Dataset({\n",
       "        features: ['text', 'label'],\n",
       "        num_rows: 50000\n",
       "    })\n",
       "})"
      ]
     },
     "execution_count": 4,
     "metadata": {},
     "output_type": "execute_result"
    }
   ],
   "source": [
    "ds"
   ]
  },
  {
   "cell_type": "code",
   "execution_count": 5,
   "id": "2823b0d4-0caf-4802-9211-e33234b28b1f",
   "metadata": {
    "scrolled": true
   },
   "outputs": [
    {
     "name": "stdout",
     "output_type": "stream",
     "text": [
      "Текст: I rented I AM CURIOUS-YELLOW from my video store because of all the controversy that surrounded it when it was first released in 1967. I also heard that at first it was seized by U.S. customs if it ever tried to enter this country, therefore being a fan of films considered \"controversial\" I really had to see this for myself.<br /><br />The plot is centered around a young Swedish drama student named Lena who wants to learn everything she can about life. In particular she wants to focus her attentions to making some sort of documentary on what the average Swede thought about certain political issues such as the Vietnam War and race issues in the United States. In between asking politicians and ordinary denizens of Stockholm about their opinions on politics, she has sex with her drama teacher, classmates, and married men.<br /><br />What kills me about I AM CURIOUS-YELLOW is that 40 years ago, this was considered pornographic. Really, the sex and nudity scenes are few and far between, even then it's not shot like some cheaply made porno. While my countrymen mind find it shocking, in reality sex and nudity are a major staple in Swedish cinema. Even Ingmar Bergman, arguably their answer to good old boy John Ford, had sex scenes in his films.<br /><br />I do commend the filmmakers for the fact that any sex shown in the film is shown for artistic purposes rather than just to shock people and make money to be shown in pornographic theaters in America. I AM CURIOUS-YELLOW is a good film for anyone wanting to study the meat and potatoes (no pun intended) of Swedish cinema. But really, this film doesn't have much of a plot.\n",
      "Метка: 0\n",
      "------------------------------------------------------------------------------------------------------------------------------------------------------\n",
      "Текст: \"I Am Curious: Yellow\" is a risible and pretentious steaming pile. It doesn't matter what one's political views are because this film can hardly be taken seriously on any level. As for the claim that frontal male nudity is an automatic NC-17, that isn't true. I've seen R-rated films with male nudity. Granted, they only offer some fleeting views, but where are the R-rated films with gaping vulvas and flapping labia? Nowhere, because they don't exist. The same goes for those crappy cable shows: schlongs swinging in the breeze but not a clitoris in sight. And those pretentious indie movies like The Brown Bunny, in which we're treated to the site of Vincent Gallo's throbbing johnson, but not a trace of pink visible on Chloe Sevigny. Before crying (or implying) \"double-standard\" in matters of nudity, the mentally obtuse should take into account one unavoidably obvious anatomical difference between men and women: there are no genitals on display when actresses appears nude, and the same cannot be said for a man. In fact, you generally won't see female genitals in an American film in anything short of porn or explicit erotica. This alleged double-standard is less a double standard than an admittedly depressing ability to come to terms culturally with the insides of women's bodies.\n",
      "Метка: 0\n",
      "------------------------------------------------------------------------------------------------------------------------------------------------------\n",
      "Текст: If only to avoid making this type of film in the future. This film is interesting as an experiment but tells no cogent story.<br /><br />One might feel virtuous for sitting thru it because it touches on so many IMPORTANT issues but it does so without any discernable motive. The viewer comes away with no new perspectives (unless one comes up with one while one's mind wanders, as it will invariably do during this pointless film).<br /><br />One might better spend one's time staring out a window at a tree growing.<br /><br />\n",
      "Метка: 0\n",
      "------------------------------------------------------------------------------------------------------------------------------------------------------\n"
     ]
    }
   ],
   "source": [
    "first_3 = ds[\"train\"].select(range(3))\n",
    "\n",
    "# Вывод данных\n",
    "for example in first_3:\n",
    "    print(\"Текст:\", example[\"text\"])\n",
    "    print(\"Метка:\", example[\"label\"])\n",
    "    print(\"-\" * 150)"
   ]
  },
  {
   "cell_type": "markdown",
   "id": "869a765f-444b-4c3e-89e5-bddfaee57aaa",
   "metadata": {},
   "source": [
    "### Разделение на выборки"
   ]
  },
  {
   "cell_type": "code",
   "execution_count": 6,
   "id": "b2be8957-776e-4cf2-a68e-1dc2a22dd621",
   "metadata": {},
   "outputs": [],
   "source": [
    "train_texts = ds[\"train\"][\"text\"]\n",
    "y_train = ds[\"train\"][\"label\"]\n",
    "test_texts = ds[\"test\"][\"text\"]\n",
    "y_test = ds[\"test\"][\"label\"]"
   ]
  },
  {
   "cell_type": "markdown",
   "id": "bd14f115-3efa-4846-9cc3-e1828657c202",
   "metadata": {},
   "source": [
    "### Токенизация и лемматизация"
   ]
  },
  {
   "cell_type": "code",
   "execution_count": 7,
   "id": "23ff882a-da74-4209-9a66-522db4a640ec",
   "metadata": {},
   "outputs": [],
   "source": [
    "stop_words = set(stopwords.words('english'))\n",
    "lemmatizer = WordNetLemmatizer()\n",
    "\n",
    "def clean_text(text):\n",
    "    text = text.lower()\n",
    "    text = re.sub(r'[^a-z\\s]', '', text) \n",
    "    words = text.split()\n",
    "    words = [lemmatizer.lemmatize(w) for w in words if w not in stop_words]\n",
    "    return ' '.join(words)\n",
    "\n",
    "train_texts_clean = [clean_text(t) for t in train_texts]\n",
    "test_texts_clean = [clean_text(t) for t in test_texts]"
   ]
  },
  {
   "cell_type": "code",
   "execution_count": 8,
   "id": "fbaf00f2-e05a-4788-9733-5c158702ffda",
   "metadata": {},
   "outputs": [],
   "source": [
    "stop_words = stopwords.words('english')"
   ]
  },
  {
   "cell_type": "markdown",
   "id": "b6330a6a-1218-4a9a-8305-2780be1954e8",
   "metadata": {},
   "source": [
    "### Модели"
   ]
  },
  {
   "cell_type": "markdown",
   "id": "938ed001-05af-4b08-b93b-40c8c3e103b2",
   "metadata": {},
   "source": [
    "#### Пайплайн для логистической регрессии"
   ]
  },
  {
   "cell_type": "code",
   "execution_count": 11,
   "id": "c8341d3d-ea42-4e27-91dc-771547e1c8c5",
   "metadata": {},
   "outputs": [],
   "source": [
    "pipeline_lr = Pipeline([\n",
    "    ('vectorizer', TfidfVectorizer(stop_words=stop_words, max_features=10000)),\n",
    "    ('model', LogisticRegression(max_iter=1000))\n",
    "])\n",
    "\n",
    "param_lr = {'model__C': [0.01, 0.1, 1, 10]}"
   ]
  },
  {
   "cell_type": "markdown",
   "id": "6abee4f1-0f40-4449-a9a1-9a6e06e5e51d",
   "metadata": {},
   "source": [
    "#### Пайплайн для дерева решений"
   ]
  },
  {
   "cell_type": "code",
   "execution_count": 12,
   "id": "c037042e-0f10-4413-be2f-8afaa3859ed7",
   "metadata": {},
   "outputs": [],
   "source": [
    "pipeline_dt = Pipeline([\n",
    "    ('vectorizer', TfidfVectorizer(stop_words=stop_words, max_features=10000)),\n",
    "    ('model', DecisionTreeClassifier())\n",
    "])\n",
    "\n",
    "param_dt = {\n",
    "    'model__max_depth': [None, 10, 20],\n",
    "    'model__min_samples_split': [2, 5]\n",
    "}"
   ]
  },
  {
   "cell_type": "markdown",
   "id": "12b1b1fa-78a5-4248-bfd3-1f457eb3f6d5",
   "metadata": {},
   "source": [
    "#### Пайплайн для градиентного бустинга"
   ]
  },
  {
   "cell_type": "code",
   "execution_count": 13,
   "id": "af5f32be-fe6d-4046-937d-2e0d8ca71911",
   "metadata": {},
   "outputs": [],
   "source": [
    "pipeline_cb = Pipeline([\n",
    "    ('vectorizer', TfidfVectorizer(stop_words=stop_words, max_features=10000)),\n",
    "    ('model', CatBoostClassifier(task_type='GPU', devices='0', verbose=0, gpu_ram_part=0.7))\n",
    "])"
   ]
  },
  {
   "cell_type": "markdown",
   "id": "10d49d6f-6c37-4fb4-ac43-4a8e5dbbf8b8",
   "metadata": {},
   "source": [
    "### gridsearch"
   ]
  },
  {
   "cell_type": "code",
   "execution_count": 14,
   "id": "f6570aba-351e-41d4-94f0-30a8ab0735f7",
   "metadata": {},
   "outputs": [],
   "source": [
    "f1 = make_scorer(f1_score, average='binary', pos_label=1)"
   ]
  },
  {
   "cell_type": "code",
   "execution_count": 15,
   "id": "7b60102e-bf0e-4abf-a96c-703ad70c1583",
   "metadata": {},
   "outputs": [],
   "source": [
    "grid_lr = GridSearchCV(\n",
    "    pipeline_lr,\n",
    "    param_grid=param_lr,\n",
    "    scoring=f1,\n",
    "    cv=5,\n",
    "    n_jobs=-1\n",
    ")\n",
    "\n",
    "grid_dt = GridSearchCV(\n",
    "    pipeline_dt,\n",
    "    param_grid=param_dt,\n",
    "    scoring=f1,\n",
    "    cv=5,\n",
    "    n_jobs=-1\n",
    ")"
   ]
  },
  {
   "cell_type": "markdown",
   "id": "f77d696a-c82d-4b0f-857d-3f6ecb9d13f6",
   "metadata": {},
   "source": [
    "### Обучение"
   ]
  },
  {
   "cell_type": "code",
   "execution_count": null,
   "id": "686ba8b3-e790-48e0-9f28-c8735f3e9d1c",
   "metadata": {},
   "outputs": [],
   "source": [
    "grid_lr.fit(train_texts_clean, y_train)\n",
    "grid_dt.fit(train_texts_clean, y_train)\n",
    "pipeline_cb.fit(np.array(train_texts_clean), np.array(y_train))"
   ]
  },
  {
   "cell_type": "code",
   "execution_count": null,
   "id": "6e3f63ba-8dc6-402a-a3d2-f1c043f05b19",
   "metadata": {},
   "outputs": [],
   "source": [
    "y_pred_lr = grid_lr.best_estimator_.predict(test_texts_clean)\n",
    "accuracy_lr = accuracy_score(y_test, y_pred_lr)\n",
    "\n",
    "y_pred_dt = grid_dt.best_estimator_.predict(test_texts_clean)\n",
    "accuracy_dt = accuracy_score(y_test, y_pred_dt)\n",
    "\n",
    "y_pred_cb = pipeline_cb.predict(train_texts_clean)\n",
    "accuracy_cb = accuracy_score(y_train, y_pred_cb)\n",
    "f1_cb = f1_score(np.array(y_train), y_pred_cb, average='binary', pos_label=1)\n",
    "\n",
    "print(f\"лучший f1 логистической модели: {grid_lr.best_score_:.4f}\")\n",
    "print(f\"Лучший f1 дерева решений : {grid_dt.best_score_:.4f}\")\n",
    "print(f\"Лучший f1 градиентного бустинга : {f1_cb:.4f}\")"
   ]
  },
  {
   "cell_type": "code",
   "execution_count": null,
   "id": "4969c2da-e5f5-4828-a0f6-c786cd81f5d4",
   "metadata": {},
   "outputs": [],
   "source": [
    "print(f\"Accuracy логистической регрессии: {accuracy_lr:.4f}\")\n",
    "print(f\"Accuracy дерева решений: {accuracy_dt:.4f}\")\n",
    "print(f\"Accuracy градиентного бустинга: {accuracy_cb:.4f}\")"
   ]
  },
  {
   "cell_type": "code",
   "execution_count": null,
   "id": "cd5baf1e-598a-4e97-b19d-097586df3c9f",
   "metadata": {},
   "outputs": [],
   "source": []
  }
 ],
 "metadata": {
  "kernelspec": {
   "display_name": "Python 3 (ipykernel)",
   "language": "python",
   "name": "python3"
  },
  "language_info": {
   "codemirror_mode": {
    "name": "ipython",
    "version": 3
   },
   "file_extension": ".py",
   "mimetype": "text/x-python",
   "name": "python",
   "nbconvert_exporter": "python",
   "pygments_lexer": "ipython3",
   "version": "3.10.19"
  }
 },
 "nbformat": 4,
 "nbformat_minor": 5
}
