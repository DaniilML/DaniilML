{
 "cells": [
  {
   "cell_type": "markdown",
   "id": "6435cd43-c7ae-40fc-a662-8643cc340fd3",
   "metadata": {},
   "source": [
    "# импорты"
   ]
  },
  {
   "cell_type": "code",
   "execution_count": 1,
   "id": "155e5dfc-e882-4004-9398-4497f18966dc",
   "metadata": {},
   "outputs": [],
   "source": [
    "import random\n",
    "from datasets import load_dataset\n",
    "import numpy as np\n",
    "\n",
    "import torch\n",
    "from torch.utils.data import DataLoader\n",
    "from torch.optim import AdamW\n",
    "\n",
    "from transformers import BertTokenizer, BertForSequenceClassification\n",
    "from sklearn.metrics import accuracy_score, classification_report\n",
    "\n",
    "import tqdm\n",
    "\n",
    "torch.manual_seed(42)\n",
    "np.random.seed(42)"
   ]
  },
  {
   "cell_type": "markdown",
   "id": "dff8e616-fdb1-4181-907d-c9df91d59e95",
   "metadata": {},
   "source": [
    "# загрузка датасета"
   ]
  },
  {
   "cell_type": "code",
   "execution_count": 2,
   "id": "ed1ded25-2ad5-42b7-868c-2e14782602be",
   "metadata": {},
   "outputs": [
    {
     "name": "stdout",
     "output_type": "stream",
     "text": [
      "Тренировочные данные: 10,000\n",
      "Тестовые данные:  2,000\n",
      "Метки: 0=World, 1=Sports, 2=Business, 3=Sci/Tech\n"
     ]
    }
   ],
   "source": [
    "dataset = load_dataset(\"ag_news\")\n",
    "train_dataset = dataset[\"train\"].select(range(10000)) \n",
    "test_dataset = dataset[\"test\"].select(range(2000))    \n",
    "\n",
    "print(f\"Тренировочные данные: {len(train_dataset):,}\")\n",
    "print(f\"Тестовые данные:  {len(test_dataset):,}\")\n",
    "print(f\"Метки: 0=World, 1=Sports, 2=Business, 3=Sci/Tech\")"
   ]
  },
  {
   "cell_type": "markdown",
   "id": "57dd5bb9-2000-42a8-9dcc-00ef18f509dc",
   "metadata": {},
   "source": [
    "# токенизация"
   ]
  },
  {
   "cell_type": "code",
   "execution_count": 3,
   "id": "173993a6-1e9b-48ad-8bed-c075722b8171",
   "metadata": {},
   "outputs": [],
   "source": [
    "tokenizer = BertTokenizer.from_pretrained(\"bert-base-uncased\")\n",
    "MAX_LENGTH = 128 \n",
    "\n",
    "# функция для предобработки\n",
    "def function(examples):\n",
    "    return tokenizer(\n",
    "        examples[\"text\"], \n",
    "        padding=\"max_length\", \n",
    "        truncation=True, \n",
    "        max_length=MAX_LENGTH\n",
    "    )\n",
    "\n",
    "train_encodings = train_dataset.map(function, batched=True)\n",
    "test_encodings = test_dataset.map(function, batched=True)"
   ]
  },
  {
   "cell_type": "markdown",
   "id": "2bc31060-0fae-4564-b496-a1b7e0ffa7d3",
   "metadata": {},
   "source": [
    "# подготовка к обучению"
   ]
  },
  {
   "cell_type": "code",
   "execution_count": 4,
   "id": "baf80b8c-4bd1-44ca-beee-1ef4a3beac08",
   "metadata": {},
   "outputs": [
    {
     "name": "stdout",
     "output_type": "stream",
     "text": [
      "✅ DataLoaders ready:\n",
      "   Train batches: 625\n",
      "   Test batches:  125\n"
     ]
    }
   ],
   "source": [
    "train_encodings.set_format(\"torch\", columns=[\"input_ids\", \"attention_mask\", \"label\"])\n",
    "test_encodings.set_format(\"torch\", columns=[\"input_ids\", \"attention_mask\", \"label\"])\n",
    "\n",
    "BATCH_SIZE = 16\n",
    "train_loader = DataLoader(train_encodings, batch_size=BATCH_SIZE, shuffle=True)\n",
    "test_loader = DataLoader(test_encodings, batch_size=BATCH_SIZE, shuffle=False)\n",
    "\n",
    "print(f\"   Train batches: {len(train_loader):,}\")\n",
    "print(f\"   Test batches:  {len(test_loader):,}\")"
   ]
  },
  {
   "cell_type": "markdown",
   "id": "fa1e6565-ea09-4996-8439-f8fdc7a674eb",
   "metadata": {},
   "source": [
    "# модель и выбор устройства для обучения"
   ]
  },
  {
   "cell_type": "code",
   "execution_count": 5,
   "id": "52349c8d-fefc-4cb9-b8e2-91012bac9a3f",
   "metadata": {},
   "outputs": [
    {
     "name": "stderr",
     "output_type": "stream",
     "text": [
      "Some weights of BertForSequenceClassification were not initialized from the model checkpoint at bert-base-uncased and are newly initialized: ['classifier.bias', 'classifier.weight']\n",
      "You should probably TRAIN this model on a down-stream task to be able to use it for predictions and inference.\n"
     ]
    }
   ],
   "source": [
    "model = BertForSequenceClassification.from_pretrained(\n",
    "    \"bert-base-uncased\", \n",
    "    num_labels=4)\n",
    "\n",
    "device = torch.device(\"cuda\" if torch.cuda.is_available() else \"cpu\")\n",
    "model.to(device)\n",
    "\n",
    "optimizer = AdamW(model.parameters(), lr=2e-5)\n",
    "EPOCHS = 5"
   ]
  },
  {
   "cell_type": "markdown",
   "id": "896c95c0-aa5e-4f3f-ac79-7037455e125c",
   "metadata": {},
   "source": [
    "# обучение"
   ]
  },
  {
   "cell_type": "code",
   "execution_count": 6,
   "id": "2248cfa0-f6fd-43c6-9c44-683f42bca562",
   "metadata": {
    "scrolled": true
   },
   "outputs": [
    {
     "name": "stdout",
     "output_type": "stream",
     "text": [
      "\n",
      " EPOCH 1/5\n"
     ]
    },
    {
     "name": "stderr",
     "output_type": "stream",
     "text": [
      "Training: 100%|█████████████████████████████████████████████████████████| 625/625 [03:02<00:00,  3.42it/s, loss=0.1204]\n"
     ]
    },
    {
     "name": "stdout",
     "output_type": "stream",
     "text": [
      "Epoch 1 Avg_loss: 0.3896\n",
      "\n",
      " EPOCH 2/5\n"
     ]
    },
    {
     "name": "stderr",
     "output_type": "stream",
     "text": [
      "Training: 100%|█████████████████████████████████████████████████████████| 625/625 [02:10<00:00,  4.80it/s, loss=0.1634]\n"
     ]
    },
    {
     "name": "stdout",
     "output_type": "stream",
     "text": [
      "Epoch 2 Avg_loss: 0.1689\n",
      "\n",
      " EPOCH 3/5\n"
     ]
    },
    {
     "name": "stderr",
     "output_type": "stream",
     "text": [
      "Training: 100%|█████████████████████████████████████████████████████████| 625/625 [02:12<00:00,  4.73it/s, loss=0.0105]\n"
     ]
    },
    {
     "name": "stdout",
     "output_type": "stream",
     "text": [
      "Epoch 3 Avg_loss: 0.1025\n",
      "\n",
      " EPOCH 4/5\n"
     ]
    },
    {
     "name": "stderr",
     "output_type": "stream",
     "text": [
      "Training: 100%|█████████████████████████████████████████████████████████| 625/625 [02:13<00:00,  4.68it/s, loss=0.0148]\n"
     ]
    },
    {
     "name": "stdout",
     "output_type": "stream",
     "text": [
      "Epoch 4 Avg_loss: 0.0696\n",
      "\n",
      " EPOCH 5/5\n"
     ]
    },
    {
     "name": "stderr",
     "output_type": "stream",
     "text": [
      "Training: 100%|█████████████████████████████████████████████████████████| 625/625 [02:10<00:00,  4.79it/s, loss=0.1700]"
     ]
    },
    {
     "name": "stdout",
     "output_type": "stream",
     "text": [
      "Epoch 5 Avg_loss: 0.0457\n"
     ]
    },
    {
     "name": "stderr",
     "output_type": "stream",
     "text": [
      "\n"
     ]
    }
   ],
   "source": [
    "model.train()\n",
    "for epoch in range(EPOCHS):\n",
    "    print(f\"\\n EPOCH {epoch+1}/{EPOCHS}\")\n",
    "    total_loss = 0\n",
    "\n",
    "    progress_bar = tqdm.tqdm(train_loader, desc=\"Training\")\n",
    "    for batch in progress_bar:\n",
    "        optimizer.zero_grad()\n",
    "        input_ids = batch[\"input_ids\"].to(device)\n",
    "        attention_mask = batch[\"attention_mask\"].to(device)\n",
    "        labels = batch[\"label\"].to(device)\n",
    "\n",
    "        outputs = model(input_ids, attention_mask=attention_mask, labels=labels)\n",
    "        loss = outputs.loss\n",
    "        loss.backward()\n",
    "        optimizer.step()\n",
    "\n",
    "        total_loss += loss.item()\n",
    "        progress_bar.set_postfix({\"loss\": f\"{loss.item():.4f}\"})\n",
    "    \n",
    "    avg_loss = total_loss / len(train_loader)\n",
    "    print(f\"Epoch {epoch+1} Avg_loss: {avg_loss:.4f}\")"
   ]
  },
  {
   "cell_type": "markdown",
   "id": "049dba88-f745-4245-bc6d-07540e05a397",
   "metadata": {},
   "source": [
    "# Оценка модели"
   ]
  },
  {
   "cell_type": "code",
   "execution_count": 8,
   "id": "74f5a143-c9e7-4c88-aef1-505011e66712",
   "metadata": {},
   "outputs": [
    {
     "name": "stderr",
     "output_type": "stream",
     "text": [
      "Testing: 100%|███████████████████████████████████████████████████████████████████████| 125/125 [00:07<00:00, 16.21it/s]"
     ]
    },
    {
     "name": "stdout",
     "output_type": "stream",
     "text": [
      "Точность на тесте: 0.9245 (92.45%)\n"
     ]
    },
    {
     "name": "stderr",
     "output_type": "stream",
     "text": [
      "\n"
     ]
    }
   ],
   "source": [
    "model.eval()\n",
    "all_preds = []\n",
    "all_labels = []\n",
    "\n",
    "with torch.no_grad():\n",
    "    progress_bar = tqdm.tqdm(test_loader, desc=\"Testing\")\n",
    "    for batch in progress_bar:\n",
    "        input_ids = batch[\"input_ids\"].to(device)\n",
    "        attention_mask = batch[\"attention_mask\"].to(device)\n",
    "        labels = batch[\"label\"].to(device)\n",
    "\n",
    "        outputs = model(input_ids, attention_mask=attention_mask)\n",
    "        preds = torch.argmax(outputs.logits, dim=1)\n",
    "\n",
    "        all_preds.extend(preds.cpu().numpy())\n",
    "        all_labels.extend(labels.cpu().numpy())\n",
    "\n",
    "accuracy = accuracy_score(all_labels, all_preds)\n",
    "print(f\"Точность на тесте: {accuracy:.4f} ({accuracy*100:.2f}%)\")"
   ]
  },
  {
   "cell_type": "code",
   "execution_count": null,
   "id": "2505672c-5c31-4fe4-bdad-e9d796cf7ab6",
   "metadata": {},
   "outputs": [],
   "source": []
  }
 ],
 "metadata": {
  "kernelspec": {
   "display_name": "Python (torch_gpu)",
   "language": "python",
   "name": "torch_gpu"
  },
  "language_info": {
   "codemirror_mode": {
    "name": "ipython",
    "version": 3
   },
   "file_extension": ".py",
   "mimetype": "text/x-python",
   "name": "python",
   "nbconvert_exporter": "python",
   "pygments_lexer": "ipython3",
   "version": "3.10.19"
  }
 },
 "nbformat": 4,
 "nbformat_minor": 5
}
